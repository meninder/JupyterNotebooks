{
 "cells": [
  {
   "cell_type": "code",
   "execution_count": 1,
   "metadata": {
    "ExecuteTime": {
     "end_time": "2021-06-29T17:25:53.114181Z",
     "start_time": "2021-06-29T17:25:51.573406Z"
    }
   },
   "outputs": [],
   "source": [
    "import matplotlib.pyplot as plt\n",
    "import geopandas as gpd\n",
    "import requests, zipfile, io, os"
   ]
  },
  {
   "cell_type": "markdown",
   "metadata": {},
   "source": [
    "Notes:\n",
    "- need geopandas\n",
    "- need shape files: \n",
    " - get shape files from census bureau (for US, probably has others)\n",
    " - depending on what you are doing, there's different files\n",
    " - out of the box, might not have, so may need to do some work\n",
    "- plot it using sytax below.\n",
    "- need to modify file.  for example, in my case, I had to remove non-lower 48 states to make the plot I wanted"
   ]
  },
  {
   "cell_type": "markdown",
   "metadata": {},
   "source": [
    "## Get Shape Files"
   ]
  },
  {
   "cell_type": "code",
   "execution_count": null,
   "metadata": {
    "ExecuteTime": {
     "end_time": "2021-06-28T00:29:43.320577Z",
     "start_time": "2021-06-28T00:29:43.176373Z"
    }
   },
   "outputs": [],
   "source": [
    "## Create directory to download into\n",
    "cwd = os.getcwd()\n",
    "new_dir = os.path.join(cwd, r'ShapeFolder')\n",
    "\n",
    "##Path\n",
    "zip_file_url = 'https://www2.census.gov/geo/tiger/GENZ2018/shp/cb_2018_us_state_5m.zip'\n",
    "fn = new_dir+'/cb_2018_us_state_5m.shp'\n",
    "\n",
    "\n",
    "if not os.path.exists(fn):\n",
    "    if not os.path.exists(new_dir):\n",
    "        os.makedirs(new_dir)\n",
    "\n",
    "    \n",
    "    r = requests.get(zip_file_url)\n",
    "    z = zipfile.ZipFile(io.BytesIO(r.content))\n",
    "    z.extractall(new_dir)"
   ]
  },
  {
   "cell_type": "markdown",
   "metadata": {},
   "source": [
    "## Create Map"
   ]
  },
  {
   "cell_type": "code",
   "execution_count": null,
   "metadata": {
    "ExecuteTime": {
     "end_time": "2021-06-28T00:31:50.347802Z",
     "start_time": "2021-06-28T00:31:50.135323Z"
    }
   },
   "outputs": [],
   "source": [
    "states = gpd.read_file(fn)\n",
    "states_remove = ['HI', 'VI', 'DC', 'GU', 'MP', 'AS', 'PR', 'AK']\n",
    "states = states[~states['STUSPS'].isin(states_remove)]"
   ]
  },
  {
   "cell_type": "code",
   "execution_count": null,
   "metadata": {
    "ExecuteTime": {
     "end_time": "2021-06-28T00:59:00.107027Z",
     "start_time": "2021-06-28T00:58:59.241432Z"
    }
   },
   "outputs": [],
   "source": [
    "fig = plt.figure(1, figsize=(30,30)) \n",
    "ax = fig.add_subplot()\n",
    "\n",
    "states.boundary.plot(ax=ax, color='Black', linewidth=.6)\n",
    "states.apply(lambda x: ax.annotate(text=x.STUSPS, \n",
    "                                   xy=x.geometry.centroid.coords[0], \n",
    "                                   ha='center', \n",
    "                                   fontsize=20),\n",
    "             axis=1)\n",
    "\n",
    "#zoom in on lower 48 by trial and error\n",
    "ax.set_xlim(-125,-67)\n",
    "ax.set_ylim(25, 50)\n",
    "\n",
    "#final touches\n",
    "plt.axis('off')\n",
    "plt.tight_layout()"
   ]
  },
  {
   "cell_type": "code",
   "execution_count": null,
   "metadata": {},
   "outputs": [],
   "source": []
  }
 ],
 "metadata": {
  "kernelspec": {
   "display_name": "Python 3",
   "language": "python",
   "name": "python3"
  },
  "language_info": {
   "codemirror_mode": {
    "name": "ipython",
    "version": 3
   },
   "file_extension": ".py",
   "mimetype": "text/x-python",
   "name": "python",
   "nbconvert_exporter": "python",
   "pygments_lexer": "ipython3",
   "version": "3.8.5"
  }
 },
 "nbformat": 4,
 "nbformat_minor": 4
}
