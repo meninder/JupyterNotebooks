{
 "cells": [
  {
   "cell_type": "code",
   "execution_count": 1,
   "metadata": {
    "ExecuteTime": {
     "end_time": "2021-06-08T16:58:18.203035Z",
     "start_time": "2021-06-08T16:58:18.134461Z"
    }
   },
   "outputs": [],
   "source": [
    "from selenium import webdriver\n",
    "from selenium.webdriver.common.by import By\n",
    "from selenium.webdriver.chrome.options import Options"
   ]
  },
  {
   "cell_type": "code",
   "execution_count": 13,
   "metadata": {
    "ExecuteTime": {
     "end_time": "2021-06-08T17:37:36.172743Z",
     "start_time": "2021-06-08T17:37:36.168279Z"
    }
   },
   "outputs": [],
   "source": [
    "import datetime\n",
    "import pandas as pd\n",
    "import numpy as np\n",
    "import matplotlib.pyplot as plt\n",
    "import matplotlib.dates as mdates"
   ]
  },
  {
   "cell_type": "code",
   "execution_count": 3,
   "metadata": {
    "ExecuteTime": {
     "end_time": "2021-06-08T16:58:19.792962Z",
     "start_time": "2021-06-08T16:58:19.787314Z"
    }
   },
   "outputs": [],
   "source": [
    "url = \"https://www.baseball-reference.com/boxes/?month={month}&day={day}&year={year}\""
   ]
  },
  {
   "cell_type": "code",
   "execution_count": 4,
   "metadata": {
    "ExecuteTime": {
     "end_time": "2021-06-08T16:58:21.831550Z",
     "start_time": "2021-06-08T16:58:20.147342Z"
    }
   },
   "outputs": [],
   "source": [
    "options = Options()\n",
    "options.add_argument('--headless')\n",
    "options.add_argument('--disable-gpu')  # Last I checked this was necessary.\n",
    "driver = webdriver.Chrome(options=options)"
   ]
  },
  {
   "cell_type": "code",
   "execution_count": 5,
   "metadata": {
    "ExecuteTime": {
     "end_time": "2021-06-08T16:58:22.897042Z",
     "start_time": "2021-06-08T16:58:22.892237Z"
    }
   },
   "outputs": [],
   "source": [
    "start_date = datetime.datetime(2021,5,1)\n",
    "as_of_date = start_date"
   ]
  },
  {
   "cell_type": "code",
   "execution_count": 6,
   "metadata": {
    "ExecuteTime": {
     "end_time": "2021-06-08T17:30:06.910195Z",
     "start_time": "2021-06-08T16:58:41.489489Z"
    }
   },
   "outputs": [],
   "source": [
    "dct = {}\n",
    "while as_of_date < datetime.datetime(2021, 10, 1):\n",
    "    as_of_date = as_of_date + datetime.timedelta(1)\n",
    "    dct[as_of_date]=None\n",
    "    for year in range(2019,2000, -1):\n",
    "        #print(as_of_date, year)\n",
    "        try:\n",
    "            driver.get(url.format(month=as_of_date.month, \n",
    "                                   day=as_of_date.day, \n",
    "                                   year=year)\n",
    "                      )\n",
    "            e = driver.find_element(By.XPATH, \"//*[@id='standings-upto-NL-E']/tbody/tr/th\")\n",
    "            if e.text=='NYM':\n",
    "                dct[as_of_date]=year\n",
    "                break\n",
    "        except:\n",
    "            pass"
   ]
  },
  {
   "cell_type": "code",
   "execution_count": 7,
   "metadata": {
    "ExecuteTime": {
     "end_time": "2021-06-08T17:34:30.675594Z",
     "start_time": "2021-06-08T17:34:30.664838Z"
    }
   },
   "outputs": [],
   "source": [
    "df = pd.DataFrame(dct.items(), columns=['Date', 'Last Year In First Place'])"
   ]
  },
  {
   "cell_type": "code",
   "execution_count": 8,
   "metadata": {
    "ExecuteTime": {
     "end_time": "2021-06-08T17:34:32.234122Z",
     "start_time": "2021-06-08T17:34:32.227279Z"
    }
   },
   "outputs": [],
   "source": [
    "df.to_pickle('mets_first_place.pkl')"
   ]
  },
  {
   "cell_type": "code",
   "execution_count": 21,
   "metadata": {
    "ExecuteTime": {
     "end_time": "2021-06-08T17:52:36.652318Z",
     "start_time": "2021-06-08T17:52:36.155981Z"
    }
   },
   "outputs": [
    {
     "data": {
      "image/png": "[encoded data removed]",
      "text/plain": [
       "<Figure size 1080x360 with 1 Axes>"
      ]
     },
     "metadata": {
      "needs_background": "light"
     },
     "output_type": "display_data"
    }
   ],
   "source": [
    "fig, ax = plt.subplots(1,1,figsize=(15,5))\n",
    "ax.plot(df['Date'], df['Last Year In First Place'])\n",
    "ax.set_title('The Most Recent Year the Mets were in 1st Place before 2021')\n",
    "myFmt = mdates.DateFormatter('%b')\n",
    "ax.xaxis.set_major_formatter(myFmt)\n",
    "ax.set_ylim(2000, 2020)\n",
    "ax.set_yticks(np.arange(2000, 2020, 3));\n",
    "fig.tight_layout()\n",
    "fig.savefig('mets_first_place.jpg', bbox_inches=\"tight\")"
   ]
  },
  {
   "cell_type": "code",
   "execution_count": 25,
   "metadata": {
    "ExecuteTime": {
     "end_time": "2021-06-08T18:26:38.802367Z",
     "start_time": "2021-06-08T18:26:38.787220Z"
    }
   },
   "outputs": [
    {
     "data": {
      "text/html": [
       "<div>\n",
       "<style scoped>\n",
       "    .dataframe tbody tr th:only-of-type {\n",
       "        vertical-align: middle;\n",
       "    }\n",
       "\n",
       "    .dataframe tbody tr th {\n",
       "        vertical-align: top;\n",
       "    }\n",
       "\n",
       "    .dataframe thead th {\n",
       "        text-align: right;\n",
       "    }\n",
       "</style>\n",
       "<table border=\"1\" class=\"dataframe\">\n",
       "  <thead>\n",
       "    <tr style=\"text-align: right;\">\n",
       "      <th></th>\n",
       "      <th>Date</th>\n",
       "      <th>Last Year In First Place</th>\n",
       "    </tr>\n",
       "  </thead>\n",
       "  <tbody>\n",
       "    <tr>\n",
       "      <th>35</th>\n",
       "      <td>2021-06-06</td>\n",
       "      <td>2007</td>\n",
       "    </tr>\n",
       "    <tr>\n",
       "      <th>36</th>\n",
       "      <td>2021-06-07</td>\n",
       "      <td>2015</td>\n",
       "    </tr>\n",
       "    <tr>\n",
       "      <th>37</th>\n",
       "      <td>2021-06-08</td>\n",
       "      <td>2015</td>\n",
       "    </tr>\n",
       "    <tr>\n",
       "      <th>38</th>\n",
       "      <td>2021-06-09</td>\n",
       "      <td>2015</td>\n",
       "    </tr>\n",
       "    <tr>\n",
       "      <th>39</th>\n",
       "      <td>2021-06-10</td>\n",
       "      <td>2007</td>\n",
       "    </tr>\n",
       "    <tr>\n",
       "      <th>40</th>\n",
       "      <td>2021-06-11</td>\n",
       "      <td>2015</td>\n",
       "    </tr>\n",
       "    <tr>\n",
       "      <th>41</th>\n",
       "      <td>2021-06-12</td>\n",
       "      <td>2015</td>\n",
       "    </tr>\n",
       "    <tr>\n",
       "      <th>42</th>\n",
       "      <td>2021-06-13</td>\n",
       "      <td>2015</td>\n",
       "    </tr>\n",
       "    <tr>\n",
       "      <th>43</th>\n",
       "      <td>2021-06-14</td>\n",
       "      <td>2015</td>\n",
       "    </tr>\n",
       "    <tr>\n",
       "      <th>44</th>\n",
       "      <td>2021-06-15</td>\n",
       "      <td>2015</td>\n",
       "    </tr>\n",
       "    <tr>\n",
       "      <th>45</th>\n",
       "      <td>2021-06-16</td>\n",
       "      <td>2015</td>\n",
       "    </tr>\n",
       "    <tr>\n",
       "      <th>46</th>\n",
       "      <td>2021-06-17</td>\n",
       "      <td>2015</td>\n",
       "    </tr>\n",
       "    <tr>\n",
       "      <th>47</th>\n",
       "      <td>2021-06-18</td>\n",
       "      <td>2015</td>\n",
       "    </tr>\n",
       "    <tr>\n",
       "      <th>48</th>\n",
       "      <td>2021-06-19</td>\n",
       "      <td>2015</td>\n",
       "    </tr>\n",
       "    <tr>\n",
       "      <th>49</th>\n",
       "      <td>2021-06-20</td>\n",
       "      <td>2007</td>\n",
       "    </tr>\n",
       "  </tbody>\n",
       "</table>\n",
       "</div>"
      ],
      "text/plain": [
       "         Date  Last Year In First Place\n",
       "35 2021-06-06                      2007\n",
       "36 2021-06-07                      2015\n",
       "37 2021-06-08                      2015\n",
       "38 2021-06-09                      2015\n",
       "39 2021-06-10                      2007\n",
       "40 2021-06-11                      2015\n",
       "41 2021-06-12                      2015\n",
       "42 2021-06-13                      2015\n",
       "43 2021-06-14                      2015\n",
       "44 2021-06-15                      2015\n",
       "45 2021-06-16                      2015\n",
       "46 2021-06-17                      2015\n",
       "47 2021-06-18                      2015\n",
       "48 2021-06-19                      2015\n",
       "49 2021-06-20                      2007"
      ]
     },
     "execution_count": 25,
     "metadata": {},
     "output_type": "execute_result"
    }
   ],
   "source": [
    "df[35:50]"
   ]
  },
  {
   "cell_type": "markdown",
   "metadata": {},
   "source": [
    "Scrap"
   ]
  },
  {
   "cell_type": "raw",
   "metadata": {
    "ExecuteTime": {
     "end_time": "2021-06-08T15:34:29.364064Z",
     "start_time": "2021-06-08T15:34:29.355335Z"
    }
   },
   "source": [
    "/html/body/table/tbody/tr[1482]/td[2]/span/span[4]\n",
    "/html/body/table/tbody/tr[1148]/td[2]/text()[5]\n",
    "//*[@id=\"standings-upto-NL-E\"]/tbody/tr[1]\n",
    "//*[@id=\"standings-upto-NL-E\"]/tbody/tr[1]/td[4]\n",
    "//*[@id=\"standings-upto-NL-E\"]/tbody/tr[1]/th/a"
   ]
  },
  {
   "cell_type": "code",
   "execution_count": null,
   "metadata": {
    "ExecuteTime": {
     "end_time": "2021-06-08T16:12:07.981760Z",
     "start_time": "2021-06-08T16:12:07.955888Z"
    }
   },
   "outputs": [],
   "source": [
    "e = driver.find_element(By.XPATH, \"//*[@id='standings-upto-NL-E']/tbody/tr/th\")\n",
    "first_place_team = e.text"
   ]
  },
  {
   "cell_type": "code",
   "execution_count": null,
   "metadata": {},
   "outputs": [],
   "source": []
  }
 ],
 "metadata": {
  "kernelspec": {
   "display_name": "Python 3",
   "language": "python",
   "name": "python3"
  },
  "language_info": {
   "codemirror_mode": {
    "name": "ipython",
    "version": 3
   },
   "file_extension": ".py",
   "mimetype": "text/x-python",
   "name": "python",
   "nbconvert_exporter": "python",
   "pygments_lexer": "ipython3",
   "version": "3.8.5"
  }
 },
 "nbformat": 4,
 "nbformat_minor": 2
}
