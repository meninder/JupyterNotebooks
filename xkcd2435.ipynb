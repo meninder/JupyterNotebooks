{
 "cells": [
  {
   "cell_type": "code",
   "execution_count": 1,
   "metadata": {
    "ExecuteTime": {
     "end_time": "2021-03-12T01:28:04.847028Z",
     "start_time": "2021-03-12T01:28:04.031980Z"
    }
   },
   "outputs": [],
   "source": [
    "import numpy as np\n",
    "from scipy.stats.mstats import gmean"
   ]
  },
  {
   "cell_type": "code",
   "execution_count": 47,
   "metadata": {
    "ExecuteTime": {
     "end_time": "2021-03-12T02:10:49.775761Z",
     "start_time": "2021-03-12T02:10:49.760160Z"
    }
   },
   "outputs": [],
   "source": [
    "def geothmetic_median(x, count=1):\n",
    "    '''\n",
    "    x is a vector of numbers\n",
    "    '''\n",
    "    \n",
    "    x1 = np.mean(x)\n",
    "    x2 = gmean(x)\n",
    "    x3 = np.median(x)\n",
    "    \n",
    "    print(count,\"%.4f\"%x1,\"%.4f\"%x2,\"%.4f\"%x3)\n",
    "    \n",
    "    cond1 = np.isclose(x1,x2, rtol=1e-12)\n",
    "    cond2 = np.isclose(x2,x2, rtol=1e-12)\n",
    "    if cond1 & cond2:\n",
    "        return x1\n",
    "    else:\n",
    "        x = x1,x2,x3\n",
    "        return geothmetic_median(x, count+1)\n",
    "    "
   ]
  },
  {
   "cell_type": "code",
   "execution_count": 48,
   "metadata": {
    "ExecuteTime": {
     "end_time": "2021-03-12T02:10:50.082139Z",
     "start_time": "2021-03-12T02:10:50.075565Z"
    }
   },
   "outputs": [],
   "source": [
    "x = [1,1,2,3,5]"
   ]
  },
  {
   "cell_type": "code",
   "execution_count": 49,
   "metadata": {
    "ExecuteTime": {
     "end_time": "2021-03-12T02:10:50.301540Z",
     "start_time": "2021-03-12T02:10:50.285895Z"
    }
   },
   "outputs": [
    {
     "name": "stdout",
     "output_type": "stream",
     "text": [
      "1 2.4000 1.9744 2.0000\n",
      "2 2.1248 2.1162 2.0000\n",
      "3 2.0803 2.0795 2.1162\n",
      "4 2.0920 2.0919 2.0803\n",
      "5 2.0881 2.0881 2.0919\n",
      "6 2.0894 2.0894 2.0881\n",
      "7 2.0890 2.0890 2.0894\n",
      "8 2.0891 2.0891 2.0890\n"
     ]
    },
    {
     "data": {
      "text/plain": [
       "2.0890934962453533"
      ]
     },
     "execution_count": 49,
     "metadata": {},
     "output_type": "execute_result"
    }
   ],
   "source": [
    "geothmetic_median(x)"
   ]
  }
 ],
 "metadata": {
  "kernelspec": {
   "display_name": "Python 3",
   "language": "python",
   "name": "python3"
  },
  "language_info": {
   "codemirror_mode": {
    "name": "ipython",
    "version": 3
   },
   "file_extension": ".py",
   "mimetype": "text/x-python",
   "name": "python",
   "nbconvert_exporter": "python",
   "pygments_lexer": "ipython3",
   "version": "3.7.8"
  }
 },
 "nbformat": 4,
 "nbformat_minor": 4
}
